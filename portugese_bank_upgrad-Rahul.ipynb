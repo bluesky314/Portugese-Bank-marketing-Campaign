{
 "cells": [
  {
   "cell_type": "code",
   "execution_count": 58,
   "metadata": {
    "collapsed": true
   },
   "outputs": [],
   "source": [
    " "
   ]
  },
  {
   "cell_type": "code",
   "execution_count": 1,
   "metadata": {
    "collapsed": true
   },
   "outputs": [],
   "source": [
    "import pandas as pd\n",
    "import numpy as np\n",
    "import seaborn as sns\n",
    "from matplotlib import pyplot as plt\n",
    "from sklearn import model_selection\n",
    "from sklearn.tree import DecisionTreeClassifier\n",
    "from sklearn.ensemble import BaggingClassifier\n",
    "from sklearn.preprocessing import LabelEncoder, OneHotEncoder\n",
    "from sklearn.linear_model import LogisticRegression,LogisticRegressionCV\n",
    "from sklearn.metrics import confusion_matrix,f1_score,roc_curve,auc,precision_score,recall_score\n",
    "from sklearn.naive_bayes import GaussianNB\n",
    "from sklearn.svm import SVC\n",
    "from sklearn.decomposition import PCA\n",
    "import scipy.stats as sp\n",
    "import warnings\n",
    "warnings.filterwarnings(\"ignore\")"
   ]
  },
  {
   "cell_type": "code",
   "execution_count": 2,
   "metadata": {
    "collapsed": true
   },
   "outputs": [],
   "source": [
    "import numpy as np\n",
    "import pandas as pd\n",
    "from sklearn.tree import DecisionTreeClassifier\n",
    "from sklearn.ensemble import BaggingClassifier\n",
    "from sklearn.preprocessing import LabelEncoder, OneHotEncoder\n",
    "from sklearn.model_selection import train_test_split, GridSearchCV\n",
    "from sklearn.metrics import roc_auc_score\n",
    "from sklearn.ensemble import RandomForestClassifier\n",
    "from sklearn.linear_model import LogisticRegression\n",
    "from imblearn.over_sampling import SMOTE\n",
    "from sklearn.decomposition import PCA\n",
    "from sklearn.svm import SVC\n",
    "from sklearn.feature_selection import RFE"
   ]
  },
  {
   "cell_type": "code",
   "execution_count": 3,
   "metadata": {
    "collapsed": true
   },
   "outputs": [],
   "source": [
    "from sklearn.model_selection import train_test_split\n"
   ]
  },
  {
   "cell_type": "code",
   "execution_count": null,
   "metadata": {
    "collapsed": true
   },
   "outputs": [],
   "source": []
  },
  {
   "cell_type": "code",
   "execution_count": 379,
   "metadata": {},
   "outputs": [
    {
     "data": {
      "text/html": [
       "<div>\n",
       "<style scoped>\n",
       "    .dataframe tbody tr th:only-of-type {\n",
       "        vertical-align: middle;\n",
       "    }\n",
       "\n",
       "    .dataframe tbody tr th {\n",
       "        vertical-align: top;\n",
       "    }\n",
       "\n",
       "    .dataframe thead th {\n",
       "        text-align: right;\n",
       "    }\n",
       "</style>\n",
       "<table border=\"1\" class=\"dataframe\">\n",
       "  <thead>\n",
       "    <tr style=\"text-align: right;\">\n",
       "      <th></th>\n",
       "      <th>age</th>\n",
       "      <th>job</th>\n",
       "      <th>marital</th>\n",
       "      <th>education</th>\n",
       "      <th>default</th>\n",
       "      <th>housing</th>\n",
       "      <th>loan</th>\n",
       "      <th>contact</th>\n",
       "      <th>month</th>\n",
       "      <th>day_of_week</th>\n",
       "      <th>...</th>\n",
       "      <th>campaign</th>\n",
       "      <th>pdays</th>\n",
       "      <th>previous</th>\n",
       "      <th>poutcome</th>\n",
       "      <th>emp.var.rate</th>\n",
       "      <th>cons.price.idx</th>\n",
       "      <th>cons.conf.idx</th>\n",
       "      <th>euribor3m</th>\n",
       "      <th>nr.employed</th>\n",
       "      <th>y</th>\n",
       "    </tr>\n",
       "  </thead>\n",
       "  <tbody>\n",
       "    <tr>\n",
       "      <th>0</th>\n",
       "      <td>56</td>\n",
       "      <td>housemaid</td>\n",
       "      <td>married</td>\n",
       "      <td>basic.4y</td>\n",
       "      <td>no</td>\n",
       "      <td>no</td>\n",
       "      <td>no</td>\n",
       "      <td>telephone</td>\n",
       "      <td>may</td>\n",
       "      <td>mon</td>\n",
       "      <td>...</td>\n",
       "      <td>1</td>\n",
       "      <td>999</td>\n",
       "      <td>0</td>\n",
       "      <td>nonexistent</td>\n",
       "      <td>1.1</td>\n",
       "      <td>93.994</td>\n",
       "      <td>-36.4</td>\n",
       "      <td>4.857</td>\n",
       "      <td>5191.0</td>\n",
       "      <td>no</td>\n",
       "    </tr>\n",
       "    <tr>\n",
       "      <th>1</th>\n",
       "      <td>57</td>\n",
       "      <td>services</td>\n",
       "      <td>married</td>\n",
       "      <td>high.school</td>\n",
       "      <td>unknown</td>\n",
       "      <td>no</td>\n",
       "      <td>no</td>\n",
       "      <td>telephone</td>\n",
       "      <td>may</td>\n",
       "      <td>mon</td>\n",
       "      <td>...</td>\n",
       "      <td>1</td>\n",
       "      <td>999</td>\n",
       "      <td>0</td>\n",
       "      <td>nonexistent</td>\n",
       "      <td>1.1</td>\n",
       "      <td>93.994</td>\n",
       "      <td>-36.4</td>\n",
       "      <td>4.857</td>\n",
       "      <td>5191.0</td>\n",
       "      <td>no</td>\n",
       "    </tr>\n",
       "    <tr>\n",
       "      <th>2</th>\n",
       "      <td>37</td>\n",
       "      <td>services</td>\n",
       "      <td>married</td>\n",
       "      <td>high.school</td>\n",
       "      <td>no</td>\n",
       "      <td>yes</td>\n",
       "      <td>no</td>\n",
       "      <td>telephone</td>\n",
       "      <td>may</td>\n",
       "      <td>mon</td>\n",
       "      <td>...</td>\n",
       "      <td>1</td>\n",
       "      <td>999</td>\n",
       "      <td>0</td>\n",
       "      <td>nonexistent</td>\n",
       "      <td>1.1</td>\n",
       "      <td>93.994</td>\n",
       "      <td>-36.4</td>\n",
       "      <td>4.857</td>\n",
       "      <td>5191.0</td>\n",
       "      <td>no</td>\n",
       "    </tr>\n",
       "    <tr>\n",
       "      <th>3</th>\n",
       "      <td>40</td>\n",
       "      <td>admin.</td>\n",
       "      <td>married</td>\n",
       "      <td>basic.6y</td>\n",
       "      <td>no</td>\n",
       "      <td>no</td>\n",
       "      <td>no</td>\n",
       "      <td>telephone</td>\n",
       "      <td>may</td>\n",
       "      <td>mon</td>\n",
       "      <td>...</td>\n",
       "      <td>1</td>\n",
       "      <td>999</td>\n",
       "      <td>0</td>\n",
       "      <td>nonexistent</td>\n",
       "      <td>1.1</td>\n",
       "      <td>93.994</td>\n",
       "      <td>-36.4</td>\n",
       "      <td>4.857</td>\n",
       "      <td>5191.0</td>\n",
       "      <td>no</td>\n",
       "    </tr>\n",
       "    <tr>\n",
       "      <th>4</th>\n",
       "      <td>56</td>\n",
       "      <td>services</td>\n",
       "      <td>married</td>\n",
       "      <td>high.school</td>\n",
       "      <td>no</td>\n",
       "      <td>no</td>\n",
       "      <td>yes</td>\n",
       "      <td>telephone</td>\n",
       "      <td>may</td>\n",
       "      <td>mon</td>\n",
       "      <td>...</td>\n",
       "      <td>1</td>\n",
       "      <td>999</td>\n",
       "      <td>0</td>\n",
       "      <td>nonexistent</td>\n",
       "      <td>1.1</td>\n",
       "      <td>93.994</td>\n",
       "      <td>-36.4</td>\n",
       "      <td>4.857</td>\n",
       "      <td>5191.0</td>\n",
       "      <td>no</td>\n",
       "    </tr>\n",
       "  </tbody>\n",
       "</table>\n",
       "<p>5 rows × 21 columns</p>\n",
       "</div>"
      ],
      "text/plain": [
       "   age        job  marital    education  default housing loan    contact  \\\n",
       "0   56  housemaid  married     basic.4y       no      no   no  telephone   \n",
       "1   57   services  married  high.school  unknown      no   no  telephone   \n",
       "2   37   services  married  high.school       no     yes   no  telephone   \n",
       "3   40     admin.  married     basic.6y       no      no   no  telephone   \n",
       "4   56   services  married  high.school       no      no  yes  telephone   \n",
       "\n",
       "  month day_of_week ...  campaign  pdays  previous     poutcome emp.var.rate  \\\n",
       "0   may         mon ...         1    999         0  nonexistent          1.1   \n",
       "1   may         mon ...         1    999         0  nonexistent          1.1   \n",
       "2   may         mon ...         1    999         0  nonexistent          1.1   \n",
       "3   may         mon ...         1    999         0  nonexistent          1.1   \n",
       "4   may         mon ...         1    999         0  nonexistent          1.1   \n",
       "\n",
       "   cons.price.idx  cons.conf.idx  euribor3m  nr.employed   y  \n",
       "0          93.994          -36.4      4.857       5191.0  no  \n",
       "1          93.994          -36.4      4.857       5191.0  no  \n",
       "2          93.994          -36.4      4.857       5191.0  no  \n",
       "3          93.994          -36.4      4.857       5191.0  no  \n",
       "4          93.994          -36.4      4.857       5191.0  no  \n",
       "\n",
       "[5 rows x 21 columns]"
      ]
     },
     "execution_count": 379,
     "metadata": {},
     "output_type": "execute_result"
    }
   ],
   "source": [
    "data = pd.read_csv('bank-additional-full.csv',sep=';')\n",
    "data.head()\n"
   ]
  },
  {
   "cell_type": "code",
   "execution_count": 381,
   "metadata": {},
   "outputs": [
    {
     "data": {
      "text/plain": [
       "Index([u'age', u'job', u'marital', u'education', u'default', u'housing',\n",
       "       u'loan', u'contact', u'month', u'day_of_week', u'duration', u'campaign',\n",
       "       u'pdays', u'previous', u'poutcome', u'emp.var.rate', u'cons.price.idx',\n",
       "       u'cons.conf.idx', u'euribor3m', u'nr.employed', u'y'],\n",
       "      dtype='object')"
      ]
     },
     "execution_count": 381,
     "metadata": {},
     "output_type": "execute_result"
    }
   ],
   "source": [
    "data.columns"
   ]
  },
  {
   "cell_type": "code",
   "execution_count": 362,
   "metadata": {},
   "outputs": [
    {
     "data": {
      "text/plain": [
       "(41188, 21)"
      ]
     },
     "execution_count": 362,
     "metadata": {},
     "output_type": "execute_result"
    }
   ],
   "source": [
    "data.shape"
   ]
  },
  {
   "cell_type": "code",
   "execution_count": 56,
   "metadata": {},
   "outputs": [
    {
     "data": {
      "image/png": "[encoded data removed]",
      "text/plain": [
       "<Figure size 2160x1800 with 12 Axes>"
      ]
     },
     "metadata": {},
     "output_type": "display_data"
    }
   ],
   "source": [
    "data.hist(bins=50, figsize=(30,25))\n",
    "plt.show()"
   ]
  },
  {
   "cell_type": "code",
   "execution_count": 114,
   "metadata": {},
   "outputs": [],
   "source": [
    "# remove outlier values well above normal range (only one sided outliers appear)\n",
    "\n",
    "data=data[data.age<data.age.quantile(.98)]\n",
    "data=data[data.campaign<data.campaign.quantile(.98)]\n",
    "data=data[data.duration<data.duration.quantile(.98)]"
   ]
  },
  {
   "cell_type": "code",
   "execution_count": 115,
   "metadata": {},
   "outputs": [],
   "source": [
    "data=data.drop(['duration'],axis=1)\n",
    "data=data.drop(['contact'],axis=1)\n",
    "data=data.drop(['day_of_week'],axis=1)\n",
    "# data=data.drop(['contact'],axis=1)"
   ]
  },
  {
   "cell_type": "code",
   "execution_count": 37,
   "metadata": {
    "collapsed": true
   },
   "outputs": [],
   "source": [
    "X = data.iloc[:,:-1]\n",
    "y = data.iloc[:,-1]\n",
    "\n",
    "y[y == 'no']=0\n",
    "y[y=='yes']=1\n",
    "y=y.astype('int')\n",
    "\n",
    "\n",
    "X_train, X_test, y_train, y_test = train_test_split(X, y, test_size=0.15, random_state=14)\n",
    "\n",
    "X_train, X_val, y_train, y_val = train_test_split(X_train, y_train, test_size=0.15, random_state=14)"
   ]
  },
  {
   "cell_type": "code",
   "execution_count": 23,
   "metadata": {},
   "outputs": [
    {
     "data": {
      "text/plain": [
       "((27958, 17), (4934, 17), (5805, 17))"
      ]
     },
     "execution_count": 23,
     "metadata": {},
     "output_type": "execute_result"
    }
   ],
   "source": [
    "X_train.shape,X_val.shape,X_test.shape"
   ]
  },
  {
   "cell_type": "markdown",
   "metadata": {},
   "source": [
    "# Dealing with Missing values and Feature Engineering"
   ]
  },
  {
   "cell_type": "code",
   "execution_count": null,
   "metadata": {
    "collapsed": true
   },
   "outputs": [],
   "source": [
    "#We calculate P values to know feature importances"
   ]
  },
  {
   "cell_type": "code",
   "execution_count": 13,
   "metadata": {
    "collapsed": true
   },
   "outputs": [],
   "source": [
    "def p_val(column):\n",
    "    column=column.copy()\n",
    "    column[column!=\"unknown\"]='known'\n",
    "    freqtab = pd.crosstab(column,y_train)\n",
    "    print freqtab\n",
    "    chi2,pval,dof,expected = sp.chi2_contingency(freqtab)\n",
    "    print(\"ChiSquare test statistic: \",chi2)\n",
    "    print(\"p-value: \",pval)"
   ]
  },
  {
   "cell_type": "code",
   "execution_count": 27,
   "metadata": {},
   "outputs": [
    {
     "name": "stdout",
     "output_type": "stream",
     "text": [
      "y              0     1\n",
      "education             \n",
      "known      24250  2592\n",
      "unknown      987   129\n",
      "('ChiSquare test statistic: ', 4.20105911870011)\n",
      "('p-value: ', 0.0403987405031329)\n"
     ]
    }
   ],
   "source": [
    "p_val(X_train['education'])"
   ]
  },
  {
   "cell_type": "code",
   "execution_count": 14,
   "metadata": {},
   "outputs": [
    {
     "data": {
      "text/plain": [
       "university.degree      8335\n",
       "high.school            6514\n",
       "basic.9y               4198\n",
       "professional.course    3545\n",
       "basic.4y               2660\n",
       "basic.6y               1584\n",
       "unknown                1116\n",
       "illiterate                6\n",
       "Name: education, dtype: int64"
      ]
     },
     "execution_count": 14,
     "metadata": {},
     "output_type": "execute_result"
    }
   ],
   "source": [
    "X_train['education'].value_counts() "
   ]
  },
  {
   "cell_type": "code",
   "execution_count": 16,
   "metadata": {},
   "outputs": [
    {
     "name": "stdout",
     "output_type": "stream",
     "text": [
      "y            0     1\n",
      "default             \n",
      "known    19533  2502\n",
      "unknown   5704   219\n",
      "('ChiSquare test statistic: ', 310.6849313855113)\n",
      "('p-value: ', 1.5488791124616083e-69)\n"
     ]
    }
   ],
   "source": [
    "p_val(X_train['default'])"
   ]
  },
  {
   "cell_type": "code",
   "execution_count": 26,
   "metadata": {},
   "outputs": [
    {
     "data": {
      "text/plain": [
       "no         22032\n",
       "unknown     5923\n",
       "yes            3\n",
       "Name: default, dtype: int64"
      ]
     },
     "execution_count": 26,
     "metadata": {},
     "output_type": "execute_result"
    }
   ],
   "source": [
    "X_train['default'].value_counts()"
   ]
  },
  {
   "cell_type": "code",
   "execution_count": 27,
   "metadata": {
    "collapsed": true
   },
   "outputs": [],
   "source": []
  },
  {
   "cell_type": "code",
   "execution_count": 50,
   "metadata": {},
   "outputs": [
    {
     "name": "stdout",
     "output_type": "stream",
     "text": [
      "y          0     1\n",
      "loan              \n",
      "known  25237  2721\n",
      "('ChiSquare test statistic: ', 0.0)\n",
      "('p-value: ', 1.0)\n"
     ]
    }
   ],
   "source": [
    "p_val(X_train['loan'])"
   ]
  },
  {
   "cell_type": "code",
   "execution_count": 51,
   "metadata": {},
   "outputs": [
    {
     "data": {
      "text/plain": [
       "no     23719\n",
       "yes     4239\n",
       "Name: loan, dtype: int64"
      ]
     },
     "execution_count": 51,
     "metadata": {},
     "output_type": "execute_result"
    }
   ],
   "source": [
    "X_train['loan'].value_counts()"
   ]
  },
  {
   "cell_type": "code",
   "execution_count": 31,
   "metadata": {},
   "outputs": [
    {
     "name": "stdout",
     "output_type": "stream",
     "text": [
      "y            0     1\n",
      "housing             \n",
      "known    24630  2659\n",
      "unknown    607    62\n",
      "('ChiSquare test statistic: ', 0.11875786918066956)\n",
      "('p-value: ', 0.7303856046178857)\n"
     ]
    }
   ],
   "source": [
    "\n",
    "p_val(X_train['housing'])"
   ]
  },
  {
   "cell_type": "code",
   "execution_count": 32,
   "metadata": {},
   "outputs": [
    {
     "data": {
      "text/plain": [
       "yes        14714\n",
       "no         12575\n",
       "unknown      669\n",
       "Name: housing, dtype: int64"
      ]
     },
     "execution_count": 32,
     "metadata": {},
     "output_type": "execute_result"
    }
   ],
   "source": [
    "X_train['housing'].value_counts()"
   ]
  },
  {
   "cell_type": "code",
   "execution_count": 33,
   "metadata": {
    "collapsed": true
   },
   "outputs": [],
   "source": []
  },
  {
   "cell_type": "code",
   "execution_count": 34,
   "metadata": {},
   "outputs": [
    {
     "name": "stdout",
     "output_type": "stream",
     "text": [
      "y            0     1\n",
      "marital             \n",
      "known    25189  2713\n",
      "unknown     48     8\n",
      "('ChiSquare test statistic: ', 0.8557799958324166)\n",
      "('p-value: ', 0.3549223306549103)\n"
     ]
    }
   ],
   "source": [
    "p_val(X_train['marital'])"
   ]
  },
  {
   "cell_type": "code",
   "execution_count": 35,
   "metadata": {},
   "outputs": [
    {
     "data": {
      "text/plain": [
       "married     16837\n",
       "single       7994\n",
       "divorced     3071\n",
       "unknown        56\n",
       "Name: marital, dtype: int64"
      ]
     },
     "execution_count": 35,
     "metadata": {},
     "output_type": "execute_result"
    }
   ],
   "source": [
    "X_train['marital'].value_counts()"
   ]
  },
  {
   "cell_type": "code",
   "execution_count": 38,
   "metadata": {
    "collapsed": true
   },
   "outputs": [],
   "source": [
    "X_train_copy=X_train.copy()"
   ]
  },
  {
   "cell_type": "code",
   "execution_count": 39,
   "metadata": {
    "collapsed": true
   },
   "outputs": [],
   "source": [
    "def imputer_my(df,cols):\n",
    "    for e in cols:\n",
    "        df[e][df[e]=='unknown']=X_train_copy[e].mode()[0]\n",
    "    return(df)"
   ]
  },
  {
   "cell_type": "code",
   "execution_count": 40,
   "metadata": {
    "collapsed": true
   },
   "outputs": [],
   "source": [
    "X_train=imputer_my(X_train,['housing','loan','marital','job','education'])\n",
    "X_val=imputer_my(X_val,['housing','loan','marital','job','education'])\n",
    "X_test=imputer_my(X_test,['housing','loan','marital','job','education'])"
   ]
  },
  {
   "cell_type": "code",
   "execution_count": 41,
   "metadata": {
    "collapsed": true
   },
   "outputs": [],
   "source": [
    "X_train = X_train.replace({\"education\" : {\"illiterate\" : 1, \"basic.4y\" : 2,\"basic.6y\" : 3, \"basic.9y\" : 4, \"high.school\" : 5, \"university.degree\" : 6, \"professional.course\" : 7},\n",
    "                       \"default\" : {\"unknown\" : 2, \"yes\" : 3, \"no\" : 1},\n",
    "                       \"poutcome\" : {\"failure\" : 0, \"nonexistent\" : 1, \"success\": 2}})\n",
    "\n",
    "X_val = X_val.replace({\"education\" : {\"illiterate\" : 1, \"basic.4y\" : 2,\"basic.6y\" : 3, \"basic.9y\" : 4, \"high.school\" : 5, \"university.degree\" : 6, \"professional.course\" : 7},\n",
    "                       \"default\" : {\"unknown\" : 2, \"yes\" : 3, \"no\" : 1},\n",
    "                       \"poutcome\" : {\"failure\" : 0, \"nonexistent\" : 1, \"success\": 2}})\n",
    "\n",
    "X_test = X_test.replace({\"education\" : {\"illiterate\" : 1, \"basic.4y\" : 2,\"basic.6y\" : 3, \"basic.9y\" : 4, \"high.school\" : 5, \"university.degree\" : 6, \"professional.course\" : 7},\n",
    "                       \"default\" : {\"unknown\" : 2, \"yes\" : 3, \"no\" : 1},\n",
    "                       \"poutcome\" : {\"failure\" : 0, \"nonexistent\" : 1, \"success\": 2}})"
   ]
  },
  {
   "cell_type": "code",
   "execution_count": 42,
   "metadata": {},
   "outputs": [
    {
     "data": {
      "text/html": [
       "<div>\n",
       "<style scoped>\n",
       "    .dataframe tbody tr th:only-of-type {\n",
       "        vertical-align: middle;\n",
       "    }\n",
       "\n",
       "    .dataframe tbody tr th {\n",
       "        vertical-align: top;\n",
       "    }\n",
       "\n",
       "    .dataframe thead th {\n",
       "        text-align: right;\n",
       "    }\n",
       "</style>\n",
       "<table border=\"1\" class=\"dataframe\">\n",
       "  <thead>\n",
       "    <tr style=\"text-align: right;\">\n",
       "      <th></th>\n",
       "      <th>age</th>\n",
       "      <th>job</th>\n",
       "      <th>marital</th>\n",
       "      <th>education</th>\n",
       "      <th>default</th>\n",
       "      <th>housing</th>\n",
       "      <th>loan</th>\n",
       "      <th>month</th>\n",
       "      <th>campaign</th>\n",
       "      <th>pdays</th>\n",
       "      <th>previous</th>\n",
       "      <th>poutcome</th>\n",
       "      <th>emp.var.rate</th>\n",
       "      <th>cons.price.idx</th>\n",
       "      <th>cons.conf.idx</th>\n",
       "      <th>euribor3m</th>\n",
       "      <th>nr.employed</th>\n",
       "    </tr>\n",
       "  </thead>\n",
       "  <tbody>\n",
       "    <tr>\n",
       "      <th>29604</th>\n",
       "      <td>32</td>\n",
       "      <td>technician</td>\n",
       "      <td>single</td>\n",
       "      <td>7</td>\n",
       "      <td>1</td>\n",
       "      <td>no</td>\n",
       "      <td>no</td>\n",
       "      <td>apr</td>\n",
       "      <td>1</td>\n",
       "      <td>999</td>\n",
       "      <td>1</td>\n",
       "      <td>0</td>\n",
       "      <td>-1.8</td>\n",
       "      <td>93.075</td>\n",
       "      <td>-47.1</td>\n",
       "      <td>1.405</td>\n",
       "      <td>5099.1</td>\n",
       "    </tr>\n",
       "    <tr>\n",
       "      <th>36945</th>\n",
       "      <td>61</td>\n",
       "      <td>admin.</td>\n",
       "      <td>married</td>\n",
       "      <td>6</td>\n",
       "      <td>1</td>\n",
       "      <td>yes</td>\n",
       "      <td>yes</td>\n",
       "      <td>jul</td>\n",
       "      <td>4</td>\n",
       "      <td>999</td>\n",
       "      <td>0</td>\n",
       "      <td>1</td>\n",
       "      <td>-2.9</td>\n",
       "      <td>92.469</td>\n",
       "      <td>-33.6</td>\n",
       "      <td>1.085</td>\n",
       "      <td>5076.2</td>\n",
       "    </tr>\n",
       "    <tr>\n",
       "      <th>23621</th>\n",
       "      <td>41</td>\n",
       "      <td>technician</td>\n",
       "      <td>divorced</td>\n",
       "      <td>7</td>\n",
       "      <td>1</td>\n",
       "      <td>yes</td>\n",
       "      <td>no</td>\n",
       "      <td>aug</td>\n",
       "      <td>4</td>\n",
       "      <td>999</td>\n",
       "      <td>0</td>\n",
       "      <td>1</td>\n",
       "      <td>1.4</td>\n",
       "      <td>93.444</td>\n",
       "      <td>-36.1</td>\n",
       "      <td>4.962</td>\n",
       "      <td>5228.1</td>\n",
       "    </tr>\n",
       "    <tr>\n",
       "      <th>28440</th>\n",
       "      <td>33</td>\n",
       "      <td>services</td>\n",
       "      <td>married</td>\n",
       "      <td>5</td>\n",
       "      <td>1</td>\n",
       "      <td>yes</td>\n",
       "      <td>no</td>\n",
       "      <td>apr</td>\n",
       "      <td>1</td>\n",
       "      <td>999</td>\n",
       "      <td>1</td>\n",
       "      <td>0</td>\n",
       "      <td>-1.8</td>\n",
       "      <td>93.075</td>\n",
       "      <td>-47.1</td>\n",
       "      <td>1.435</td>\n",
       "      <td>5099.1</td>\n",
       "    </tr>\n",
       "    <tr>\n",
       "      <th>29441</th>\n",
       "      <td>32</td>\n",
       "      <td>management</td>\n",
       "      <td>single</td>\n",
       "      <td>6</td>\n",
       "      <td>1</td>\n",
       "      <td>yes</td>\n",
       "      <td>no</td>\n",
       "      <td>apr</td>\n",
       "      <td>3</td>\n",
       "      <td>999</td>\n",
       "      <td>0</td>\n",
       "      <td>1</td>\n",
       "      <td>-1.8</td>\n",
       "      <td>93.075</td>\n",
       "      <td>-47.1</td>\n",
       "      <td>1.405</td>\n",
       "      <td>5099.1</td>\n",
       "    </tr>\n",
       "  </tbody>\n",
       "</table>\n",
       "</div>"
      ],
      "text/plain": [
       "       age         job   marital  education  default housing loan month  \\\n",
       "29604   32  technician    single          7        1      no   no   apr   \n",
       "36945   61      admin.   married          6        1     yes  yes   jul   \n",
       "23621   41  technician  divorced          7        1     yes   no   aug   \n",
       "28440   33    services   married          5        1     yes   no   apr   \n",
       "29441   32  management    single          6        1     yes   no   apr   \n",
       "\n",
       "       campaign  pdays  previous  poutcome  emp.var.rate  cons.price.idx  \\\n",
       "29604         1    999         1         0          -1.8          93.075   \n",
       "36945         4    999         0         1          -2.9          92.469   \n",
       "23621         4    999         0         1           1.4          93.444   \n",
       "28440         1    999         1         0          -1.8          93.075   \n",
       "29441         3    999         0         1          -1.8          93.075   \n",
       "\n",
       "       cons.conf.idx  euribor3m  nr.employed  \n",
       "29604          -47.1      1.405       5099.1  \n",
       "36945          -33.6      1.085       5076.2  \n",
       "23621          -36.1      4.962       5228.1  \n",
       "28440          -47.1      1.435       5099.1  \n",
       "29441          -47.1      1.405       5099.1  "
      ]
     },
     "execution_count": 42,
     "metadata": {},
     "output_type": "execute_result"
    }
   ],
   "source": [
    "X_train.head()"
   ]
  },
  {
   "cell_type": "markdown",
   "metadata": {},
   "source": []
  },
  {
   "cell_type": "code",
   "execution_count": 43,
   "metadata": {
    "scrolled": true
   },
   "outputs": [
    {
     "data": {
      "text/plain": [
       "(27958, 17)"
      ]
     },
     "execution_count": 43,
     "metadata": {},
     "output_type": "execute_result"
    }
   ],
   "source": [
    "X_train.shape"
   ]
  },
  {
   "cell_type": "code",
   "execution_count": 44,
   "metadata": {},
   "outputs": [
    {
     "name": "stdout",
     "output_type": "stream",
     "text": [
      "Index([u'age', u'education', u'default', u'campaign', u'pdays', u'previous',\n",
      "       u'poutcome', u'emp.var.rate', u'cons.price.idx', u'cons.conf.idx',\n",
      "       u'euribor3m', u'nr.employed'],\n",
      "      dtype='object')\n"
     ]
    }
   ],
   "source": [
    "num_cols = X_train.columns[X_train.dtypes.apply(lambda c: np.issubdtype(c, np.number))]\n",
    "print(num_cols)\n",
    "\n",
    "means=X_train[num_cols].mean()\n",
    "stds=X_train[num_cols].std()\n",
    "X_train[num_cols] = (X_train[num_cols]-means)/stds\n",
    "X_test[num_cols] = (X_test[num_cols]-means)/stds\n",
    "X_val[num_cols] = (X_val[num_cols]-means)/stds"
   ]
  },
  {
   "cell_type": "code",
   "execution_count": 47,
   "metadata": {},
   "outputs": [
    {
     "data": {
      "text/plain": [
       "(            age         job   marital  education  default housing loan month  \\\n",
       " 29604 -0.782089  technician    single   1.357693 -0.51845      no   no   apr   \n",
       " 36945  2.305180      admin.   married   0.664326 -0.51845     yes  yes   jul   \n",
       " 23621  0.176029  technician  divorced   1.357693 -0.51845     yes   no   aug   \n",
       " 28440 -0.675631    services   married  -0.029041 -0.51845     yes   no   apr   \n",
       " 29441 -0.782089  management    single   0.664326 -0.51845     yes   no   apr   \n",
       " \n",
       "        campaign     pdays  previous  poutcome  emp.var.rate  cons.price.idx  \\\n",
       " 29604 -0.737462  0.184561  1.728238 -2.593275     -1.229908       -0.877063   \n",
       " 36945  0.992039  0.184561 -0.345143  0.206168     -1.939982       -1.938282   \n",
       " 23621  0.992039  0.184561 -0.345143  0.206168      0.835764       -0.230875   \n",
       " 28440 -0.737462  0.184561  1.728238 -2.593275     -1.229908       -0.877063   \n",
       " 29441  0.415539  0.184561 -0.345143  0.206168     -1.229908       -0.877063   \n",
       " \n",
       "        cons.conf.idx  euribor3m  nr.employed  \n",
       " 29604      -1.431901  -1.309099    -0.991412  \n",
       " 36945       1.538636  -1.495718    -1.317325  \n",
       " 23621       0.988536   0.765288     0.844517  \n",
       " 28440      -1.431901  -1.291603    -0.991412  \n",
       " 29441      -1.431901  -1.309099    -0.991412  , (27958, 17))"
      ]
     },
     "execution_count": 47,
     "metadata": {},
     "output_type": "execute_result"
    }
   ],
   "source": [
    "X_train.head(),X_train.shape"
   ]
  },
  {
   "cell_type": "code",
   "execution_count": 48,
   "metadata": {},
   "outputs": [],
   "source": [
    "def one_hotter(df,cols):\n",
    "    for e in cols:\n",
    "        dummies=pd.get_dummies(df[e])\n",
    "        df=df.drop([e],axis=1)\n",
    "        \n",
    "        df=pd.concat((df,dummies),axis=1)\n",
    "    return(df)"
   ]
  },
  {
   "cell_type": "code",
   "execution_count": 49,
   "metadata": {},
   "outputs": [
    {
     "data": {
      "text/plain": [
       "Index([u'job', u'marital', u'housing', u'loan', u'month'], dtype='object')"
      ]
     },
     "execution_count": 49,
     "metadata": {},
     "output_type": "execute_result"
    }
   ],
   "source": [
    "objcol = X_train.select_dtypes(include='object')\n",
    "objcol=objcol.columns\n",
    "objcol"
   ]
  },
  {
   "cell_type": "code",
   "execution_count": 50,
   "metadata": {},
   "outputs": [
    {
     "data": {
      "text/plain": [
       "((4934, 40), (4934, 17))"
      ]
     },
     "execution_count": 50,
     "metadata": {},
     "output_type": "execute_result"
    }
   ],
   "source": [
    "Xtr=one_hotter(X_train,objcol)\n",
    "Xte=one_hotter(X_test,objcol)\n",
    "Xval=one_hotter(X_val,objcol)\n",
    "Xval.shape,X_val.shape"
   ]
  },
  {
   "cell_type": "code",
   "execution_count": 51,
   "metadata": {},
   "outputs": [
    {
     "data": {
      "text/html": [
       "<div>\n",
       "<style scoped>\n",
       "    .dataframe tbody tr th:only-of-type {\n",
       "        vertical-align: middle;\n",
       "    }\n",
       "\n",
       "    .dataframe tbody tr th {\n",
       "        vertical-align: top;\n",
       "    }\n",
       "\n",
       "    .dataframe thead th {\n",
       "        text-align: right;\n",
       "    }\n",
       "</style>\n",
       "<table border=\"1\" class=\"dataframe\">\n",
       "  <thead>\n",
       "    <tr style=\"text-align: right;\">\n",
       "      <th></th>\n",
       "      <th>age</th>\n",
       "      <th>education</th>\n",
       "      <th>default</th>\n",
       "      <th>campaign</th>\n",
       "      <th>pdays</th>\n",
       "      <th>previous</th>\n",
       "      <th>poutcome</th>\n",
       "      <th>emp.var.rate</th>\n",
       "      <th>cons.price.idx</th>\n",
       "      <th>cons.conf.idx</th>\n",
       "      <th>...</th>\n",
       "      <th>apr</th>\n",
       "      <th>aug</th>\n",
       "      <th>dec</th>\n",
       "      <th>jul</th>\n",
       "      <th>jun</th>\n",
       "      <th>mar</th>\n",
       "      <th>may</th>\n",
       "      <th>nov</th>\n",
       "      <th>oct</th>\n",
       "      <th>sep</th>\n",
       "    </tr>\n",
       "  </thead>\n",
       "  <tbody>\n",
       "    <tr>\n",
       "      <th>16543</th>\n",
       "      <td>1.772893</td>\n",
       "      <td>1.357693</td>\n",
       "      <td>-0.51845</td>\n",
       "      <td>-0.737462</td>\n",
       "      <td>0.184561</td>\n",
       "      <td>-0.345143</td>\n",
       "      <td>0.206168</td>\n",
       "      <td>0.835764</td>\n",
       "      <td>0.599187</td>\n",
       "      <td>-0.463726</td>\n",
       "      <td>...</td>\n",
       "      <td>0</td>\n",
       "      <td>0</td>\n",
       "      <td>0</td>\n",
       "      <td>1</td>\n",
       "      <td>0</td>\n",
       "      <td>0</td>\n",
       "      <td>0</td>\n",
       "      <td>0</td>\n",
       "      <td>0</td>\n",
       "      <td>0</td>\n",
       "    </tr>\n",
       "    <tr>\n",
       "      <th>35196</th>\n",
       "      <td>1.347062</td>\n",
       "      <td>0.664326</td>\n",
       "      <td>-0.51845</td>\n",
       "      <td>-0.737462</td>\n",
       "      <td>0.184561</td>\n",
       "      <td>-0.345143</td>\n",
       "      <td>0.206168</td>\n",
       "      <td>-1.229908</td>\n",
       "      <td>-1.195779</td>\n",
       "      <td>-1.233865</td>\n",
       "      <td>...</td>\n",
       "      <td>0</td>\n",
       "      <td>0</td>\n",
       "      <td>0</td>\n",
       "      <td>0</td>\n",
       "      <td>0</td>\n",
       "      <td>0</td>\n",
       "      <td>1</td>\n",
       "      <td>0</td>\n",
       "      <td>0</td>\n",
       "      <td>0</td>\n",
       "    </tr>\n",
       "    <tr>\n",
       "      <th>5311</th>\n",
       "      <td>-0.888546</td>\n",
       "      <td>1.357693</td>\n",
       "      <td>-0.51845</td>\n",
       "      <td>-0.737462</td>\n",
       "      <td>0.184561</td>\n",
       "      <td>-0.345143</td>\n",
       "      <td>0.206168</td>\n",
       "      <td>0.642108</td>\n",
       "      <td>0.732277</td>\n",
       "      <td>0.922524</td>\n",
       "      <td>...</td>\n",
       "      <td>0</td>\n",
       "      <td>0</td>\n",
       "      <td>0</td>\n",
       "      <td>0</td>\n",
       "      <td>0</td>\n",
       "      <td>0</td>\n",
       "      <td>1</td>\n",
       "      <td>0</td>\n",
       "      <td>0</td>\n",
       "      <td>0</td>\n",
       "    </tr>\n",
       "    <tr>\n",
       "      <th>40687</th>\n",
       "      <td>-0.143343</td>\n",
       "      <td>-0.029041</td>\n",
       "      <td>-0.51845</td>\n",
       "      <td>-0.737462</td>\n",
       "      <td>-5.401534</td>\n",
       "      <td>5.875000</td>\n",
       "      <td>3.005612</td>\n",
       "      <td>-0.778042</td>\n",
       "      <td>1.091270</td>\n",
       "      <td>0.680481</td>\n",
       "      <td>...</td>\n",
       "      <td>0</td>\n",
       "      <td>0</td>\n",
       "      <td>0</td>\n",
       "      <td>0</td>\n",
       "      <td>0</td>\n",
       "      <td>0</td>\n",
       "      <td>0</td>\n",
       "      <td>0</td>\n",
       "      <td>0</td>\n",
       "      <td>1</td>\n",
       "    </tr>\n",
       "    <tr>\n",
       "      <th>28085</th>\n",
       "      <td>1.559978</td>\n",
       "      <td>0.664326</td>\n",
       "      <td>-0.51845</td>\n",
       "      <td>-0.737462</td>\n",
       "      <td>0.184561</td>\n",
       "      <td>-0.345143</td>\n",
       "      <td>0.206168</td>\n",
       "      <td>-1.229908</td>\n",
       "      <td>-0.877063</td>\n",
       "      <td>-1.431901</td>\n",
       "      <td>...</td>\n",
       "      <td>1</td>\n",
       "      <td>0</td>\n",
       "      <td>0</td>\n",
       "      <td>0</td>\n",
       "      <td>0</td>\n",
       "      <td>0</td>\n",
       "      <td>0</td>\n",
       "      <td>0</td>\n",
       "      <td>0</td>\n",
       "      <td>0</td>\n",
       "    </tr>\n",
       "  </tbody>\n",
       "</table>\n",
       "<p>5 rows × 40 columns</p>\n",
       "</div>"
      ],
      "text/plain": [
       "            age  education  default  campaign     pdays  previous  poutcome  \\\n",
       "16543  1.772893   1.357693 -0.51845 -0.737462  0.184561 -0.345143  0.206168   \n",
       "35196  1.347062   0.664326 -0.51845 -0.737462  0.184561 -0.345143  0.206168   \n",
       "5311  -0.888546   1.357693 -0.51845 -0.737462  0.184561 -0.345143  0.206168   \n",
       "40687 -0.143343  -0.029041 -0.51845 -0.737462 -5.401534  5.875000  3.005612   \n",
       "28085  1.559978   0.664326 -0.51845 -0.737462  0.184561 -0.345143  0.206168   \n",
       "\n",
       "       emp.var.rate  cons.price.idx  cons.conf.idx ...   apr  aug  dec  jul  \\\n",
       "16543      0.835764        0.599187      -0.463726 ...     0    0    0    1   \n",
       "35196     -1.229908       -1.195779      -1.233865 ...     0    0    0    0   \n",
       "5311       0.642108        0.732277       0.922524 ...     0    0    0    0   \n",
       "40687     -0.778042        1.091270       0.680481 ...     0    0    0    0   \n",
       "28085     -1.229908       -0.877063      -1.431901 ...     1    0    0    0   \n",
       "\n",
       "       jun  mar  may  nov  oct  sep  \n",
       "16543    0    0    0    0    0    0  \n",
       "35196    0    0    1    0    0    0  \n",
       "5311     0    0    1    0    0    0  \n",
       "40687    0    0    0    0    0    1  \n",
       "28085    0    0    0    0    0    0  \n",
       "\n",
       "[5 rows x 40 columns]"
      ]
     },
     "execution_count": 51,
     "metadata": {},
     "output_type": "execute_result"
    }
   ],
   "source": [
    "Xval.head()"
   ]
  },
  {
   "cell_type": "code",
   "execution_count": 53,
   "metadata": {},
   "outputs": [
    {
     "data": {
      "image/png": "[encoded data removed]",
      "text/plain": [
       "<Figure size 2160x1800 with 42 Axes>"
      ]
     },
     "metadata": {},
     "output_type": "display_data"
    }
   ],
   "source": [
    "Xtr.hist(bins=50, figsize=(30,25))\n",
    "plt.show()"
   ]
  },
  {
   "cell_type": "code",
   "execution_count": 54,
   "metadata": {},
   "outputs": [
    {
     "data": {
      "text/html": [
       "<div>\n",
       "<style scoped>\n",
       "    .dataframe tbody tr th:only-of-type {\n",
       "        vertical-align: middle;\n",
       "    }\n",
       "\n",
       "    .dataframe tbody tr th {\n",
       "        vertical-align: top;\n",
       "    }\n",
       "\n",
       "    .dataframe thead th {\n",
       "        text-align: right;\n",
       "    }\n",
       "</style>\n",
       "<table border=\"1\" class=\"dataframe\">\n",
       "  <thead>\n",
       "    <tr style=\"text-align: right;\">\n",
       "      <th></th>\n",
       "      <th>age</th>\n",
       "      <th>education</th>\n",
       "      <th>default</th>\n",
       "      <th>campaign</th>\n",
       "      <th>pdays</th>\n",
       "      <th>previous</th>\n",
       "      <th>poutcome</th>\n",
       "      <th>emp.var.rate</th>\n",
       "      <th>cons.price.idx</th>\n",
       "      <th>cons.conf.idx</th>\n",
       "      <th>...</th>\n",
       "      <th>apr</th>\n",
       "      <th>aug</th>\n",
       "      <th>dec</th>\n",
       "      <th>jul</th>\n",
       "      <th>jun</th>\n",
       "      <th>mar</th>\n",
       "      <th>may</th>\n",
       "      <th>nov</th>\n",
       "      <th>oct</th>\n",
       "      <th>sep</th>\n",
       "    </tr>\n",
       "  </thead>\n",
       "  <tbody>\n",
       "    <tr>\n",
       "      <th>count</th>\n",
       "      <td>2.795800e+04</td>\n",
       "      <td>2.795800e+04</td>\n",
       "      <td>2.795800e+04</td>\n",
       "      <td>2.795800e+04</td>\n",
       "      <td>2.795800e+04</td>\n",
       "      <td>2.795800e+04</td>\n",
       "      <td>2.795800e+04</td>\n",
       "      <td>2.795800e+04</td>\n",
       "      <td>2.795800e+04</td>\n",
       "      <td>2.795800e+04</td>\n",
       "      <td>...</td>\n",
       "      <td>27958.000000</td>\n",
       "      <td>27958.000000</td>\n",
       "      <td>27958.000000</td>\n",
       "      <td>27958.000000</td>\n",
       "      <td>27958.000000</td>\n",
       "      <td>27958.000000</td>\n",
       "      <td>27958.000000</td>\n",
       "      <td>27958.000000</td>\n",
       "      <td>27958.000000</td>\n",
       "      <td>27958.000000</td>\n",
       "    </tr>\n",
       "    <tr>\n",
       "      <th>mean</th>\n",
       "      <td>2.258489e-16</td>\n",
       "      <td>-6.679287e-16</td>\n",
       "      <td>9.910442e-16</td>\n",
       "      <td>-1.034180e-15</td>\n",
       "      <td>7.632178e-16</td>\n",
       "      <td>-1.199254e-18</td>\n",
       "      <td>6.049957e-16</td>\n",
       "      <td>-2.847004e-15</td>\n",
       "      <td>4.976040e-12</td>\n",
       "      <td>-6.937518e-13</td>\n",
       "      <td>...</td>\n",
       "      <td>0.063309</td>\n",
       "      <td>0.148866</td>\n",
       "      <td>0.003505</td>\n",
       "      <td>0.171114</td>\n",
       "      <td>0.129051</td>\n",
       "      <td>0.011696</td>\n",
       "      <td>0.343086</td>\n",
       "      <td>0.102189</td>\n",
       "      <td>0.014951</td>\n",
       "      <td>0.012233</td>\n",
       "    </tr>\n",
       "    <tr>\n",
       "      <th>std</th>\n",
       "      <td>1.000000e+00</td>\n",
       "      <td>1.000000e+00</td>\n",
       "      <td>1.000000e+00</td>\n",
       "      <td>1.000000e+00</td>\n",
       "      <td>1.000000e+00</td>\n",
       "      <td>1.000000e+00</td>\n",
       "      <td>1.000000e+00</td>\n",
       "      <td>1.000000e+00</td>\n",
       "      <td>1.000000e+00</td>\n",
       "      <td>1.000000e+00</td>\n",
       "      <td>...</td>\n",
       "      <td>0.243523</td>\n",
       "      <td>0.355963</td>\n",
       "      <td>0.059102</td>\n",
       "      <td>0.376615</td>\n",
       "      <td>0.335262</td>\n",
       "      <td>0.107516</td>\n",
       "      <td>0.474748</td>\n",
       "      <td>0.302902</td>\n",
       "      <td>0.121359</td>\n",
       "      <td>0.109925</td>\n",
       "    </tr>\n",
       "    <tr>\n",
       "      <th>min</th>\n",
       "      <td>-2.378952e+00</td>\n",
       "      <td>-2.802509e+00</td>\n",
       "      <td>-5.184500e-01</td>\n",
       "      <td>-7.374616e-01</td>\n",
       "      <td>-5.452317e+00</td>\n",
       "      <td>-3.451433e-01</td>\n",
       "      <td>-2.593275e+00</td>\n",
       "      <td>-2.262744e+00</td>\n",
       "      <td>-2.407600e+00</td>\n",
       "      <td>-2.246048e+00</td>\n",
       "      <td>...</td>\n",
       "      <td>0.000000</td>\n",
       "      <td>0.000000</td>\n",
       "      <td>0.000000</td>\n",
       "      <td>0.000000</td>\n",
       "      <td>0.000000</td>\n",
       "      <td>0.000000</td>\n",
       "      <td>0.000000</td>\n",
       "      <td>0.000000</td>\n",
       "      <td>0.000000</td>\n",
       "      <td>0.000000</td>\n",
       "    </tr>\n",
       "    <tr>\n",
       "      <th>25%</th>\n",
       "      <td>-7.820887e-01</td>\n",
       "      <td>-7.224081e-01</td>\n",
       "      <td>-5.184500e-01</td>\n",
       "      <td>-7.374616e-01</td>\n",
       "      <td>1.845607e-01</td>\n",
       "      <td>-3.451433e-01</td>\n",
       "      <td>2.061683e-01</td>\n",
       "      <td>-1.229908e+00</td>\n",
       "      <td>-8.770631e-01</td>\n",
       "      <td>-4.637260e-01</td>\n",
       "      <td>...</td>\n",
       "      <td>0.000000</td>\n",
       "      <td>0.000000</td>\n",
       "      <td>0.000000</td>\n",
       "      <td>0.000000</td>\n",
       "      <td>0.000000</td>\n",
       "      <td>0.000000</td>\n",
       "      <td>0.000000</td>\n",
       "      <td>0.000000</td>\n",
       "      <td>0.000000</td>\n",
       "      <td>0.000000</td>\n",
       "    </tr>\n",
       "    <tr>\n",
       "      <th>50%</th>\n",
       "      <td>-1.433434e-01</td>\n",
       "      <td>-2.904116e-02</td>\n",
       "      <td>-5.184500e-01</td>\n",
       "      <td>-1.609615e-01</td>\n",
       "      <td>1.845607e-01</td>\n",
       "      <td>-3.451433e-01</td>\n",
       "      <td>2.061683e-01</td>\n",
       "      <td>6.421076e-01</td>\n",
       "      <td>-2.308753e-01</td>\n",
       "      <td>-2.656902e-01</td>\n",
       "      <td>...</td>\n",
       "      <td>0.000000</td>\n",
       "      <td>0.000000</td>\n",
       "      <td>0.000000</td>\n",
       "      <td>0.000000</td>\n",
       "      <td>0.000000</td>\n",
       "      <td>0.000000</td>\n",
       "      <td>0.000000</td>\n",
       "      <td>0.000000</td>\n",
       "      <td>0.000000</td>\n",
       "      <td>0.000000</td>\n",
       "    </tr>\n",
       "    <tr>\n",
       "      <th>75%</th>\n",
       "      <td>7.083171e-01</td>\n",
       "      <td>6.643258e-01</td>\n",
       "      <td>-5.184500e-01</td>\n",
       "      <td>4.155387e-01</td>\n",
       "      <td>1.845607e-01</td>\n",
       "      <td>-3.451433e-01</td>\n",
       "      <td>2.061683e-01</td>\n",
       "      <td>8.357644e-01</td>\n",
       "      <td>7.322771e-01</td>\n",
       "      <td>9.225243e-01</td>\n",
       "      <td>...</td>\n",
       "      <td>0.000000</td>\n",
       "      <td>0.000000</td>\n",
       "      <td>0.000000</td>\n",
       "      <td>0.000000</td>\n",
       "      <td>0.000000</td>\n",
       "      <td>0.000000</td>\n",
       "      <td>1.000000</td>\n",
       "      <td>0.000000</td>\n",
       "      <td>0.000000</td>\n",
       "      <td>0.000000</td>\n",
       "    </tr>\n",
       "    <tr>\n",
       "      <th>max</th>\n",
       "      <td>2.305180e+00</td>\n",
       "      <td>1.357693e+00</td>\n",
       "      <td>4.371017e+00</td>\n",
       "      <td>4.451040e+00</td>\n",
       "      <td>1.845607e-01</td>\n",
       "      <td>1.416853e+01</td>\n",
       "      <td>3.005612e+00</td>\n",
       "      <td>8.357644e-01</td>\n",
       "      <td>2.085944e+00</td>\n",
       "      <td>3.012902e+00</td>\n",
       "      <td>...</td>\n",
       "      <td>1.000000</td>\n",
       "      <td>1.000000</td>\n",
       "      <td>1.000000</td>\n",
       "      <td>1.000000</td>\n",
       "      <td>1.000000</td>\n",
       "      <td>1.000000</td>\n",
       "      <td>1.000000</td>\n",
       "      <td>1.000000</td>\n",
       "      <td>1.000000</td>\n",
       "      <td>1.000000</td>\n",
       "    </tr>\n",
       "  </tbody>\n",
       "</table>\n",
       "<p>8 rows × 40 columns</p>\n",
       "</div>"
      ],
      "text/plain": [
       "                age     education       default      campaign         pdays  \\\n",
       "count  2.795800e+04  2.795800e+04  2.795800e+04  2.795800e+04  2.795800e+04   \n",
       "mean   2.258489e-16 -6.679287e-16  9.910442e-16 -1.034180e-15  7.632178e-16   \n",
       "std    1.000000e+00  1.000000e+00  1.000000e+00  1.000000e+00  1.000000e+00   \n",
       "min   -2.378952e+00 -2.802509e+00 -5.184500e-01 -7.374616e-01 -5.452317e+00   \n",
       "25%   -7.820887e-01 -7.224081e-01 -5.184500e-01 -7.374616e-01  1.845607e-01   \n",
       "50%   -1.433434e-01 -2.904116e-02 -5.184500e-01 -1.609615e-01  1.845607e-01   \n",
       "75%    7.083171e-01  6.643258e-01 -5.184500e-01  4.155387e-01  1.845607e-01   \n",
       "max    2.305180e+00  1.357693e+00  4.371017e+00  4.451040e+00  1.845607e-01   \n",
       "\n",
       "           previous      poutcome  emp.var.rate  cons.price.idx  \\\n",
       "count  2.795800e+04  2.795800e+04  2.795800e+04    2.795800e+04   \n",
       "mean  -1.199254e-18  6.049957e-16 -2.847004e-15    4.976040e-12   \n",
       "std    1.000000e+00  1.000000e+00  1.000000e+00    1.000000e+00   \n",
       "min   -3.451433e-01 -2.593275e+00 -2.262744e+00   -2.407600e+00   \n",
       "25%   -3.451433e-01  2.061683e-01 -1.229908e+00   -8.770631e-01   \n",
       "50%   -3.451433e-01  2.061683e-01  6.421076e-01   -2.308753e-01   \n",
       "75%   -3.451433e-01  2.061683e-01  8.357644e-01    7.322771e-01   \n",
       "max    1.416853e+01  3.005612e+00  8.357644e-01    2.085944e+00   \n",
       "\n",
       "       cons.conf.idx      ...                apr           aug           dec  \\\n",
       "count   2.795800e+04      ...       27958.000000  27958.000000  27958.000000   \n",
       "mean   -6.937518e-13      ...           0.063309      0.148866      0.003505   \n",
       "std     1.000000e+00      ...           0.243523      0.355963      0.059102   \n",
       "min    -2.246048e+00      ...           0.000000      0.000000      0.000000   \n",
       "25%    -4.637260e-01      ...           0.000000      0.000000      0.000000   \n",
       "50%    -2.656902e-01      ...           0.000000      0.000000      0.000000   \n",
       "75%     9.225243e-01      ...           0.000000      0.000000      0.000000   \n",
       "max     3.012902e+00      ...           1.000000      1.000000      1.000000   \n",
       "\n",
       "                jul           jun           mar           may           nov  \\\n",
       "count  27958.000000  27958.000000  27958.000000  27958.000000  27958.000000   \n",
       "mean       0.171114      0.129051      0.011696      0.343086      0.102189   \n",
       "std        0.376615      0.335262      0.107516      0.474748      0.302902   \n",
       "min        0.000000      0.000000      0.000000      0.000000      0.000000   \n",
       "25%        0.000000      0.000000      0.000000      0.000000      0.000000   \n",
       "50%        0.000000      0.000000      0.000000      0.000000      0.000000   \n",
       "75%        0.000000      0.000000      0.000000      1.000000      0.000000   \n",
       "max        1.000000      1.000000      1.000000      1.000000      1.000000   \n",
       "\n",
       "                oct           sep  \n",
       "count  27958.000000  27958.000000  \n",
       "mean       0.014951      0.012233  \n",
       "std        0.121359      0.109925  \n",
       "min        0.000000      0.000000  \n",
       "25%        0.000000      0.000000  \n",
       "50%        0.000000      0.000000  \n",
       "75%        0.000000      0.000000  \n",
       "max        1.000000      1.000000  \n",
       "\n",
       "[8 rows x 40 columns]"
      ]
     },
     "execution_count": 54,
     "metadata": {},
     "output_type": "execute_result"
    }
   ],
   "source": [
    "# X_train.corr()\n",
    "Xtr.describe()"
   ]
  },
  {
   "cell_type": "code",
   "execution_count": 119,
   "metadata": {},
   "outputs": [
    {
     "name": "stdout",
     "output_type": "stream",
     "text": [
      "9 skewed numerical features to log transform\n",
      "(27958, 12)\n"
     ]
    }
   ],
   "source": [
    "from scipy.stats import skew\n",
    "\n",
    "intcol = X_train.select_dtypes(include='int64')\n",
    "intcol=intcol.columns\n",
    "\n",
    "floatcol=X_train.select_dtypes(include='float64')\n",
    "floatcol=floatcol.columns\n",
    "\n",
    "numcol=intcol.append(floatcol)\n",
    "dfdrops2num=X_train[numcol]\n",
    "\n",
    "skewness = dfdrops2num.apply(lambda x: skew(x)) #Log transform all skewed varibakes\n",
    "skewness = skewness[abs(skewness) > 0.5]\n",
    "print(str(skewness.shape[0]) + \" skewed numerical features to log transform\")\n",
    "skewed_features = skewness.index\n",
    "dfdrops2num[skewed_features] = np.log1p(dfdrops2num[skewed_features])\n",
    "print(dfdrops2num.shape)"
   ]
  },
  {
   "cell_type": "code",
   "execution_count": 122,
   "metadata": {},
   "outputs": [],
   "source": [
    "num_cols = Xtr.columns[Xtr.dtypes.apply(lambda c: np.issubdtype(c, np.number))]"
   ]
  },
  {
   "cell_type": "code",
   "execution_count": 57,
   "metadata": {
    "scrolled": true
   },
   "outputs": [
    {
     "data": {
      "text/html": [
       "<div>\n",
       "<style scoped>\n",
       "    .dataframe tbody tr th:only-of-type {\n",
       "        vertical-align: middle;\n",
       "    }\n",
       "\n",
       "    .dataframe tbody tr th {\n",
       "        vertical-align: top;\n",
       "    }\n",
       "\n",
       "    .dataframe thead th {\n",
       "        text-align: right;\n",
       "    }\n",
       "</style>\n",
       "<table border=\"1\" class=\"dataframe\">\n",
       "  <thead>\n",
       "    <tr style=\"text-align: right;\">\n",
       "      <th></th>\n",
       "      <th>age</th>\n",
       "      <th>education</th>\n",
       "      <th>default</th>\n",
       "      <th>campaign</th>\n",
       "      <th>pdays</th>\n",
       "      <th>previous</th>\n",
       "      <th>poutcome</th>\n",
       "      <th>emp.var.rate</th>\n",
       "      <th>cons.price.idx</th>\n",
       "      <th>cons.conf.idx</th>\n",
       "      <th>...</th>\n",
       "      <th>apr</th>\n",
       "      <th>aug</th>\n",
       "      <th>dec</th>\n",
       "      <th>jul</th>\n",
       "      <th>jun</th>\n",
       "      <th>mar</th>\n",
       "      <th>may</th>\n",
       "      <th>nov</th>\n",
       "      <th>oct</th>\n",
       "      <th>sep</th>\n",
       "    </tr>\n",
       "  </thead>\n",
       "  <tbody>\n",
       "    <tr>\n",
       "      <th>29604</th>\n",
       "      <td>-0.782089</td>\n",
       "      <td>1.357693</td>\n",
       "      <td>-0.51845</td>\n",
       "      <td>-0.737462</td>\n",
       "      <td>0.184561</td>\n",
       "      <td>1.728238</td>\n",
       "      <td>-2.593275</td>\n",
       "      <td>-1.229908</td>\n",
       "      <td>-0.877063</td>\n",
       "      <td>-1.431901</td>\n",
       "      <td>...</td>\n",
       "      <td>1</td>\n",
       "      <td>0</td>\n",
       "      <td>0</td>\n",
       "      <td>0</td>\n",
       "      <td>0</td>\n",
       "      <td>0</td>\n",
       "      <td>0</td>\n",
       "      <td>0</td>\n",
       "      <td>0</td>\n",
       "      <td>0</td>\n",
       "    </tr>\n",
       "    <tr>\n",
       "      <th>36945</th>\n",
       "      <td>2.305180</td>\n",
       "      <td>0.664326</td>\n",
       "      <td>-0.51845</td>\n",
       "      <td>0.992039</td>\n",
       "      <td>0.184561</td>\n",
       "      <td>-0.345143</td>\n",
       "      <td>0.206168</td>\n",
       "      <td>-1.939982</td>\n",
       "      <td>-1.938282</td>\n",
       "      <td>1.538636</td>\n",
       "      <td>...</td>\n",
       "      <td>0</td>\n",
       "      <td>0</td>\n",
       "      <td>0</td>\n",
       "      <td>1</td>\n",
       "      <td>0</td>\n",
       "      <td>0</td>\n",
       "      <td>0</td>\n",
       "      <td>0</td>\n",
       "      <td>0</td>\n",
       "      <td>0</td>\n",
       "    </tr>\n",
       "    <tr>\n",
       "      <th>23621</th>\n",
       "      <td>0.176029</td>\n",
       "      <td>1.357693</td>\n",
       "      <td>-0.51845</td>\n",
       "      <td>0.992039</td>\n",
       "      <td>0.184561</td>\n",
       "      <td>-0.345143</td>\n",
       "      <td>0.206168</td>\n",
       "      <td>0.835764</td>\n",
       "      <td>-0.230875</td>\n",
       "      <td>0.988536</td>\n",
       "      <td>...</td>\n",
       "      <td>0</td>\n",
       "      <td>1</td>\n",
       "      <td>0</td>\n",
       "      <td>0</td>\n",
       "      <td>0</td>\n",
       "      <td>0</td>\n",
       "      <td>0</td>\n",
       "      <td>0</td>\n",
       "      <td>0</td>\n",
       "      <td>0</td>\n",
       "    </tr>\n",
       "    <tr>\n",
       "      <th>28440</th>\n",
       "      <td>-0.675631</td>\n",
       "      <td>-0.029041</td>\n",
       "      <td>-0.51845</td>\n",
       "      <td>-0.737462</td>\n",
       "      <td>0.184561</td>\n",
       "      <td>1.728238</td>\n",
       "      <td>-2.593275</td>\n",
       "      <td>-1.229908</td>\n",
       "      <td>-0.877063</td>\n",
       "      <td>-1.431901</td>\n",
       "      <td>...</td>\n",
       "      <td>1</td>\n",
       "      <td>0</td>\n",
       "      <td>0</td>\n",
       "      <td>0</td>\n",
       "      <td>0</td>\n",
       "      <td>0</td>\n",
       "      <td>0</td>\n",
       "      <td>0</td>\n",
       "      <td>0</td>\n",
       "      <td>0</td>\n",
       "    </tr>\n",
       "    <tr>\n",
       "      <th>29441</th>\n",
       "      <td>-0.782089</td>\n",
       "      <td>0.664326</td>\n",
       "      <td>-0.51845</td>\n",
       "      <td>0.415539</td>\n",
       "      <td>0.184561</td>\n",
       "      <td>-0.345143</td>\n",
       "      <td>0.206168</td>\n",
       "      <td>-1.229908</td>\n",
       "      <td>-0.877063</td>\n",
       "      <td>-1.431901</td>\n",
       "      <td>...</td>\n",
       "      <td>1</td>\n",
       "      <td>0</td>\n",
       "      <td>0</td>\n",
       "      <td>0</td>\n",
       "      <td>0</td>\n",
       "      <td>0</td>\n",
       "      <td>0</td>\n",
       "      <td>0</td>\n",
       "      <td>0</td>\n",
       "      <td>0</td>\n",
       "    </tr>\n",
       "  </tbody>\n",
       "</table>\n",
       "<p>5 rows × 40 columns</p>\n",
       "</div>"
      ],
      "text/plain": [
       "            age  education  default  campaign     pdays  previous  poutcome  \\\n",
       "29604 -0.782089   1.357693 -0.51845 -0.737462  0.184561  1.728238 -2.593275   \n",
       "36945  2.305180   0.664326 -0.51845  0.992039  0.184561 -0.345143  0.206168   \n",
       "23621  0.176029   1.357693 -0.51845  0.992039  0.184561 -0.345143  0.206168   \n",
       "28440 -0.675631  -0.029041 -0.51845 -0.737462  0.184561  1.728238 -2.593275   \n",
       "29441 -0.782089   0.664326 -0.51845  0.415539  0.184561 -0.345143  0.206168   \n",
       "\n",
       "       emp.var.rate  cons.price.idx  cons.conf.idx ...   apr  aug  dec  jul  \\\n",
       "29604     -1.229908       -0.877063      -1.431901 ...     1    0    0    0   \n",
       "36945     -1.939982       -1.938282       1.538636 ...     0    0    0    1   \n",
       "23621      0.835764       -0.230875       0.988536 ...     0    1    0    0   \n",
       "28440     -1.229908       -0.877063      -1.431901 ...     1    0    0    0   \n",
       "29441     -1.229908       -0.877063      -1.431901 ...     1    0    0    0   \n",
       "\n",
       "       jun  mar  may  nov  oct  sep  \n",
       "29604    0    0    0    0    0    0  \n",
       "36945    0    0    0    0    0    0  \n",
       "23621    0    0    0    0    0    0  \n",
       "28440    0    0    0    0    0    0  \n",
       "29441    0    0    0    0    0    0  \n",
       "\n",
       "[5 rows x 40 columns]"
      ]
     },
     "execution_count": 57,
     "metadata": {},
     "output_type": "execute_result"
    }
   ],
   "source": [
    "Xtr.head()"
   ]
  },
  {
   "cell_type": "code",
   "execution_count": null,
   "metadata": {
    "collapsed": true
   },
   "outputs": [],
   "source": []
  },
  {
   "cell_type": "markdown",
   "metadata": {},
   "source": [
    "# Model"
   ]
  },
  {
   "cell_type": "code",
   "execution_count": 60,
   "metadata": {},
   "outputs": [],
   "source": [
    "Xtr = Xtr.apply(pd.to_numeric)\n",
    "Xte = Xte.apply(pd.to_numeric)\n",
    "Xval = Xval.apply(pd.to_numeric)"
   ]
  },
  {
   "cell_type": "code",
   "execution_count": 79,
   "metadata": {},
   "outputs": [
    {
     "name": "stdout",
     "output_type": "stream",
     "text": [
      "Feature importances = ['age' 'education' 'campaign' 'pdays' 'previous' 'cons.conf.idx'\n",
      " 'euribor3m' 'nr.employed' 'admin.' 'oct']\n"
     ]
    },
    {
     "data": {
      "text/plain": [
       "0.905958654235914"
      ]
     },
     "execution_count": 79,
     "metadata": {},
     "output_type": "execute_result"
    }
   ],
   "source": [
    "from sklearn.metrics import accuracy_score\n",
    "\n",
    "\n",
    "model = RandomForestClassifier(random_state=9,criterion='entropy',max_features=15)\n",
    "model1 = DecisionTreeClassifier(max_depth=10)\n",
    "selector = RFE(estimator=model1, n_features_to_select=10)\n",
    "selector = selector.fit(Xtr, y_train)\n",
    "model.fit(Xtr, y_train)\n",
    "\n",
    "print(\"Feature importances = {}\".format(Xval.columns.values[selector.support_]))\n",
    "y_pred = model.predict(Xval)\n",
    "score = accuracy_score(y_val,y_pred)\n",
    "score"
   ]
  },
  {
   "cell_type": "code",
   "execution_count": 70,
   "metadata": {},
   "outputs": [
    {
     "name": "stdout",
     "output_type": "stream",
     "text": [
      "Feature importances for decision tree classifier = ['age' 'education' 'campaign' 'pdays' 'previous' 'poutcome'\n",
      " 'cons.price.idx' 'cons.conf.idx' 'euribor3m' 'nr.employed' 'admin.'\n",
      " 'technician' 'married' 'no' 'oct']\n"
     ]
    },
    {
     "data": {
      "text/plain": [
       "0.9081880826915282"
      ]
     },
     "execution_count": 70,
     "metadata": {},
     "output_type": "execute_result"
    }
   ],
   "source": [
    "from sklearn.metrics import accuracy_score\n",
    "\n",
    "\n",
    "model = DecisionTreeClassifier(max_depth=10)\n",
    "selector = RFE(estimator=model1, n_features_to_select=15)\n",
    "selector = selector.fit(Xtr, y_train)\n",
    "model.fit(Xtr, y_train)\n",
    "\n",
    "print(\"Feature importances for decision tree classifier = {}\".format(Xval.columns.values[selector.support_]))\n",
    "y_pred = model.predict(Xval)\n",
    "score = accuracy_score(y_val,y_pred)\n",
    "score"
   ]
  },
  {
   "cell_type": "code",
   "execution_count": 85,
   "metadata": {},
   "outputs": [
    {
     "name": "stdout",
     "output_type": "stream",
     "text": [
      "Feature importances for decision tree classifier = ['age' 'education' 'campaign' 'pdays' 'previous' 'poutcome'\n",
      " 'cons.conf.idx' 'euribor3m' 'nr.employed' 'admin.' 'technician' 'married'\n",
      " 'yes' 'no' 'oct']\n"
     ]
    },
    {
     "data": {
      "text/plain": [
       "0.9094041345764086"
      ]
     },
     "execution_count": 85,
     "metadata": {},
     "output_type": "execute_result"
    }
   ],
   "source": [
    "from sklearn.metrics import accuracy_score\n",
    "\n",
    "\n",
    "model = LogisticRegression(C=100, class_weight=None, dual=False, fit_intercept=True,\n",
    "          intercept_scaling=1, max_iter=100, multi_class='ovr', n_jobs=1,\n",
    "          penalty='l2', random_state=None, solver='liblinear', tol=0.0001,\n",
    "          verbose=0, warm_start=False)\n",
    "selector = RFE(estimator=model1, n_features_to_select=15)\n",
    "selector = selector.fit(Xtr, y_train)\n",
    "model.fit(Xtr, y_train)\n",
    "\n",
    "print(\"Feature importances for decision tree classifier = {}\".format(Xval.columns.values[selector.support_]))\n",
    "y_pred = model.predict(Xval)\n",
    "score = accuracy_score(y_val,y_pred)\n",
    "score"
   ]
  },
  {
   "cell_type": "code",
   "execution_count": null,
   "metadata": {},
   "outputs": [],
   "source": [
    "feature_importance = abs(model.coef_[0])\n",
    "feature_importance = 100.0 * (feature_importance / feature_importance.max())\n",
    "sorted_idx = np.argsort(feature_importance)\n",
    "pos = np.arange(sorted_idx.shape[0]) + .5\n",
    "\n",
    "featfig = plt.figure(figsize=(12,12))\n",
    "featax = featfig.add_subplot(1, 1, 1)\n",
    "featax.barh(pos, feature_importance[sorted_idx], align='center')\n",
    "featax.set_yticks(pos)\n",
    "featax.set_yticklabels(np.array(Xtr.columns)[sorted_idx], fontsize=8)\n",
    "featax.set_xlabel('Relative Feature Importance')\n",
    "\n",
    "plt.tight_layout()   \n",
    "plt.show()"
   ]
  },
  {
   "cell_type": "code",
   "execution_count": 100,
   "metadata": {},
   "outputs": [
    {
     "name": "stdout",
     "output_type": "stream",
     "text": [
      "('age', -0.022430698695020266)\n",
      "('education', 0.05866481398911456)\n",
      "('default', -0.13409238040799867)\n",
      "('campaign', -0.11499528769255886)\n",
      "('pdays', -0.2047612113730122)\n",
      "('previous', -0.02157380367800865)\n",
      "('poutcome', 0.15302916044373338)\n",
      "('emp.var.rate', -1.7675608898223585)\n",
      "('cons.price.idx', 0.7539211051854177)\n",
      "('cons.conf.idx', 0.013806685173232216)\n",
      "('euribor3m', 0.2218409241371124)\n",
      "('nr.employed', 0.13636144556430604)\n",
      "('admin.', -0.04890152906892519)\n",
      "('blue-collar', -0.26229402827413956)\n",
      "('entrepreneur', -0.1606909820023249)\n",
      "('housemaid', -0.09159970665481616)\n",
      "('management', 0.0031543303118575436)\n",
      "('retired', 0.1321135264836991)\n",
      "('self-employed', -0.30048979912388823)\n",
      "('services', -0.2266092388432236)\n",
      "('student', 0.15520160996683777)\n",
      "('technician', -0.06977093743884691)\n",
      "('unemployed', -0.06868130746378905)\n",
      "('divorced', -0.31622403418855416)\n",
      "('married', -0.31634297503771186)\n",
      "('single', -0.3060010528786746)\n",
      "('no', -0.4570777308119437)\n",
      "('yes', -0.4814903312919847)\n",
      "('no', -0.4645579688785933)\n",
      "('yes', -0.4740100932296531)\n",
      "('apr', -0.4095268131532644)\n",
      "('aug', 0.23560986791149274)\n",
      "('dec', 0.3612871552208613)\n",
      "('jul', 0.0565960347053328)\n",
      "('jun', -0.7631916286657613)\n",
      "('mar', 1.0764216770704869)\n",
      "('may', -0.8734278356929147)\n",
      "('nov', -0.5753426104566643)\n",
      "('oct', 0.03535469524915836)\n",
      "('sep', -0.08234860429585096)\n"
     ]
    }
   ],
   "source": [
    "for e,k in zip(Xtr.columns,model.coef_[0]):\n",
    "    print(e,k)"
   ]
  },
  {
   "cell_type": "code",
   "execution_count": 110,
   "metadata": {},
   "outputs": [
    {
     "name": "stdout",
     "output_type": "stream",
     "text": [
      "Feature ranking:\n",
      "1. feature age (0.192690)\n",
      "2. feature euribor3m (0.182593)\n",
      "3. feature campaign (0.083055)\n",
      "4. feature education (0.070711)\n",
      "5. feature nr.employed (0.053832)\n",
      "6. feature pdays (0.043460)\n",
      "7. feature poutcome (0.034172)\n",
      "8. feature cons.conf.idx (0.026517)\n",
      "9. feature emp.var.rate (0.022950)\n",
      "10. feature cons.price.idx (0.020811)\n",
      "11. feature previous (0.019583)\n",
      "12. feature no (0.019351)\n",
      "13. feature yes (0.019269)\n",
      "14. feature admin. (0.018095)\n",
      "15. feature married (0.015688)\n",
      "16. feature technician (0.014957)\n",
      "17. feature single (0.014749)\n",
      "18. feature default (0.013975)\n",
      "19. feature yes (0.012728)\n",
      "20. feature no (0.012524)\n",
      "21. feature blue-collar (0.011845)\n",
      "22. feature management (0.010229)\n",
      "23. feature divorced (0.009615)\n",
      "24. feature services (0.009490)\n",
      "25. feature oct (0.007208)\n",
      "26. feature self-employed (0.006712)\n",
      "27. feature student (0.006407)\n",
      "28. feature entrepreneur (0.005821)\n",
      "29. feature unemployed (0.005649)\n",
      "30. feature mar (0.005166)\n",
      "31. feature retired (0.004953)\n",
      "32. feature housemaid (0.004565)\n",
      "33. feature may (0.004549)\n",
      "34. feature jun (0.002979)\n",
      "35. feature apr (0.002939)\n",
      "36. feature jul (0.002582)\n",
      "37. feature sep (0.002318)\n",
      "38. feature aug (0.002241)\n",
      "39. feature nov (0.002145)\n",
      "40. feature dec (0.000878)\n"
     ]
    },
    {
     "data": {
      "image/png": "[encoded data removed]",
      "text/plain": [
       "<Figure size 432x288 with 1 Axes>"
      ]
     },
     "metadata": {},
     "output_type": "display_data"
    },
    {
     "data": {
      "image/png": "[encoded data removed]",
      "text/plain": [
       "<Figure size 432x288 with 1 Axes>"
      ]
     },
     "metadata": {},
     "output_type": "display_data"
    }
   ],
   "source": [
    "forest = RandomForestClassifier(n_estimators=250,\n",
    "                              random_state=0)\n",
    "\n",
    "forest.fit(Xtr, y_train)\n",
    "importances = forest.feature_importances_\n",
    "std = np.std([tree.feature_importances_ for tree in forest.estimators_],\n",
    "             axis=0)\n",
    "indices = np.argsort(importances)[::-1]\n",
    "print(\"Feature ranking:\")\n",
    "\n",
    "for f in range(Xtr.shape[1]):\n",
    "    print(\"%d. feature %s (%f)\" % (f + 1, Xtr.columns[indices[f]], importances[indices[f]]))\n",
    "\n",
    "# Plot the feature importances of the forest\n",
    "plt.figure()\n",
    "plt.title(\"Feature importances\")\n",
    "plt.bar(range(Xtr.shape[1]), importances[indices],\n",
    "       color=\"r\", yerr=std[indices], align=\"center\")\n",
    "plt.xticks(range(X.shape[1]), indices)\n",
    "plt.xlim([-1, X.shape[1]])\n",
    "plt.show()"
   ]
  },
  {
   "cell_type": "code",
   "execution_count": null,
   "metadata": {
    "collapsed": true
   },
   "outputs": [],
   "source": [
    "The three major changes that can be made are:\n",
    "    Target people with higher age\n",
    "    Target when euribor3m is low\n",
    "    Target people of higher education\n",
    "    Target those who have been contacted before(poutcome)\n"
   ]
  },
  {
   "cell_type": "code",
   "execution_count": 390,
   "metadata": {
    "scrolled": true
   },
   "outputs": [
    {
     "name": "stdout",
     "output_type": "stream",
     "text": [
      "(546, 'out of', 5805, 'sucessful')\n",
      "('Current Sucess rate: ', '9.407%')\n",
      "(47, 'out of', 175, 'sucessful')\n",
      "('Sucess rate after changes: ', '26.914%')\n"
     ]
    }
   ],
   "source": [
    "# Testing this on validation data\n",
    "a=0.1; b=0.7;c=0.4;f=0.2\n",
    "data = Xval\n",
    "target=y_val\n",
    "\n",
    "y=y_test[y_test==1].shape\n",
    "print(y[0],'out of',s[0],'sucessful')\n",
    "print('Current Sucess rate: ',str(round((y[0]+0.1)/s[0] * 100,3))+'%')\n",
    "\n",
    "data=pd.concat((data,target),axis=1)\n",
    "\n",
    "\n",
    "data=data[data.age>data.age.quantile(a)]\n",
    "data=data[data.education>data.education.quantile(b)]\n",
    "data=data[data.euribor3m<data.euribor3m.quantile(c)]\n",
    "data=data[data.poutcome>data.poutcome.quantile(f)]\n",
    "\n",
    "\n",
    "\n",
    "d=data.shape\n",
    "\n",
    "k=data[data.y==1].shape\n",
    "data[data.y==1].shape\n",
    "print(k[0],'out of',d[0],'sucessful')\n",
    "\n",
    "\n",
    "print('Sucess rate after changes: ',str(round((k[0]+0.1)/d[0]* 100,3))+'%')\n"
   ]
  },
  {
   "cell_type": "markdown",
   "metadata": {},
   "source": [
    "# Effects of targetting on final test data"
   ]
  },
  {
   "cell_type": "code",
   "execution_count": 403,
   "metadata": {},
   "outputs": [
    {
     "name": "stdout",
     "output_type": "stream",
     "text": [
      "(546, 'out of', 5805, 'sucessful')\n",
      "('Current Sucess rate: ', '9.407%')\n",
      "(27, 'out of', 125, 'sucessful')\n",
      "('Sucess rate after changes: ', '21.68%')\n"
     ]
    }
   ],
   "source": [
    "# Testing this on test data\n",
    "data = Xte\n",
    "target=y_test\n",
    "\n",
    "\n",
    "y=y_test[y_test==1].shape\n",
    "print(y[0],'out of',s[0],'sucessful')\n",
    "print('Current Sucess rate: ',str(round((y[0]+0.1)/s[0] * 100,3))+'%')\n",
    "\n",
    "data=pd.concat((data,target),axis=1)\n",
    "\n",
    "\n",
    "data=data[data.age>data.age.quantile(a)]\n",
    "data=data[data.education>data.education.quantile(b)]\n",
    "data=data[data.euribor3m<data.euribor3m.quantile(c)]\n",
    "data=data[data.poutcome>data.poutcome.quantile(f)]\n",
    "\n",
    "\n",
    "\n",
    "d=data.shape\n",
    "\n",
    "k=data[data.y==1].shape\n",
    "data[data.y==1].shape\n",
    "print(k[0],'out of',d[0],'sucessful')\n",
    "\n",
    "\n",
    "print('Sucess rate after changes: ',str(round((k[0]+0.1)/d[0]* 100,3))+'%')\n",
    "\n"
   ]
  },
  {
   "cell_type": "markdown",
   "metadata": {},
   "source": [
    "# Conclusion (See Repo Description)"
   ]
  },
  {
   "cell_type": "code",
   "execution_count": null,
   "metadata": {
    "collapsed": true
   },
   "outputs": [],
   "source": [
    "People with higher age should be targeted. This is probably due to the spending \n",
    "habits of younger people and the conservative habits of the older.\n",
    "Target people when the euribor3m rate is low. This has shown to be strong indicator so the company should observe\n",
    "this metric in the economy and plan its call when it reaches low levels.\n",
    "People who were part of a previsous campign should be targed first as familiarity is a powerful persuasion tactic. \n",
    "However there are extremely few people as such. People with higher degrees in education are more likely to respond.\n",
    "By doing these above we increase the effectivnes of calls from 9.407% to 20.909%, more than double the sucess rate. \n",
    "With these profiles now, the company can target the larger population having the same characteristic. If we assume a \n",
    "total cost of X Rs, then the company would have saved around 10% of that so this project is quite productive in \n",
    "saving costs to the company."
   ]
  },
  {
   "cell_type": "code",
   "execution_count": null,
   "metadata": {},
   "outputs": [],
   "source": []
  },
  {
   "cell_type": "code",
   "execution_count": null,
   "metadata": {
    "collapsed": true
   },
   "outputs": [],
   "source": []
  }
 ],
 "metadata": {
  "kernelspec": {
   "display_name": "Python 2",
   "language": "python",
   "name": "python2"
  },
  "language_info": {
   "codemirror_mode": {
    "name": "ipython",
    "version": 2
   },
   "file_extension": ".py",
   "mimetype": "text/x-python",
   "name": "python",
   "nbconvert_exporter": "python",
   "pygments_lexer": "ipython2",
   "version": "2.7.3"
  }
 },
 "nbformat": 4,
 "nbformat_minor": 2
}
